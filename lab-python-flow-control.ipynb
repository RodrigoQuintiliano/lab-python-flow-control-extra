{
 "cells": [
  {
   "cell_type": "markdown",
   "id": "d3bfc191-8885-42ee-b0a0-bbab867c6f9f",
   "metadata": {
    "tags": []
   },
   "source": [
    "# Lab | Flow Control"
   ]
  },
  {
   "cell_type": "markdown",
   "id": "303cceb0-f898-4c5f-99bd-c04e131e1ded",
   "metadata": {},
   "source": [
    "Objective: Practice how to use programming constructs like if/else statements and loops to control the flow of a program's execution."
   ]
  },
  {
   "cell_type": "markdown",
   "id": "42fd260a-9eb2-4c39-9989-f2c8c70552ec",
   "metadata": {},
   "source": [
    "## Challenge: The Haunted Mansion"
   ]
  },
  {
   "cell_type": "markdown",
   "id": "7086f8f7-ded2-48e5-b966-7ec44fb57ca5",
   "metadata": {},
   "source": [
    "You are a brave adventurer who has decided to explore the Haunted Mansion, a decrepit old building that is rumored to be haunted by ghosts and spirits. Your objective is to find the treasure that is hidden somewhere in the mansion.\n",
    "\n",
    "## Requirements\n",
    "\n",
    "- Your script should have at least two functions: \"run_mansion()\" and \"encounter_ghost()\".\n",
    "- Your script should use if-else statements, while loops, for loops, combined loops, or nested loops to control the flow of execution.\n",
    "- Your script should prompt the user for input to make decisions on which path to take or what actions to perform.\n",
    "- Your script should include random events and obstacles that can either help or hinder the adventurer in their quest.\n",
    "- Your script should have an objective of finding the treasure at the end of the mansion.\n",
    "\n",
    "## Instructions\n",
    "\n",
    "- Begin by creating a list of items that the adventurer can pick up along the way. These items will be used to help the adventurer overcome obstacles and defeat ghosts. Examples of items can be weapons, potions, keys, etc.\n",
    "\n",
    "- Complete the function called \"run_mansion()\" that serves as the main function for the game. Within \"run_mansion()\", prompt the user to choose a path to take at each intersection. Each path should have its unique challenges and obstacles that the adventurer must overcome.\n",
    "\n",
    "- Use loops to check if the adventurer has enough health points to continue the game. If their health points drop to zero, the game is over.\n",
    "\n",
    "- Complete the function called \"encounter_ghost()\" that will be used to handle ghost encounters. The function should use random events to determine the outcome of the encounter, and the adventurer should use their items to help them defeat the ghost.\n",
    "\n",
    "- Use loops to generate random events or items along the way. These events can either help or hinder the adventurer, and the outcome should be based on random chance.\n",
    "\n",
    "- At the end of the mansion, the adventurer will find the treasure, and the game will end.\n",
    "\n"
   ]
  },
  {
   "cell_type": "markdown",
   "id": "8846d61d-cf9d-4ad4-bbb8-1ecb3bb22005",
   "metadata": {},
   "source": [
    "*Introduction to Functions*:\n",
    "\n",
    "    Functions are blocks of code that perform a specific task. They are used to break up complex code into smaller, more manageable parts, which can make your code easier to read and understand. Functions can also be reused multiple times throughout your code, which can save you a lot of time and effort.\n",
    "\n",
    "    Functions are defined using the def keyword, followed by the name of the function and a set of parentheses. Inside the parentheses, you can list any arguments that the function needs in order to perform its task. These arguments are optional, but they can be useful if you need to pass data into the function from outside.\n",
    "\n",
    "    Once you have defined a function, you can call it from anywhere in your code using its name and passing any necessary arguments. When the function is called, the code inside it is executed, and any values that it returns are passed back to the calling code.\n",
    "\n",
    "    In this exercise, we have defined a function called encounter_ghost that simulates a battle between the adventurer and a ghost, and run_mansion. Your task is to complete these functions by using flow control statements such as if, else, while, for loops, and nested loops. Remember to pay attention to the instructions and comments provided in the function to help guide you. Once you have completed the function encounter_ghost, you can call it from the main code to simulate the battle and test your implementation.\n",
    "\n",
    "    Good luck!"
   ]
  },
  {
   "cell_type": "code",
   "execution_count": 96,
   "id": "499552c8-9e30-46e1-a706-4ac5dc64670e",
   "metadata": {},
   "outputs": [],
   "source": [
    "def encounter_ghost():\n",
    "    \n",
    "    print(\"The battle begins!\")\n",
    "\n",
    "    number = input(\"Choose a number to determine the outcome of the battle (1-6): \")\n",
    "    if not number.isdigit():\n",
    "        print(\"That's not a valid number. The ghost took advantage of your hesitation!\")\n",
    "        return False\n",
    "\n",
    "    number = int(number)\n",
    "    if number <= 3:\n",
    "        print(\"You defeated the ghost!\")\n",
    "        return True\n",
    "\n",
    "    else:\n",
    "        print(\"You lost the battle...\")\n",
    "        return False"
   ]
  },
  {
   "cell_type": "code",
   "execution_count": 97,
   "id": "5d72ca1d",
   "metadata": {},
   "outputs": [],
   "source": [
    "number = int(number)"
   ]
  },
  {
   "cell_type": "code",
   "execution_count": 98,
   "id": "d3e4076b-48cc-41ac-95ad-891743e775f5",
   "metadata": {},
   "outputs": [],
   "source": [
    "# main function for the game\n",
    "def run_mansion():\n",
    "    \n",
    "    print(\"Welcome to the Haunted Mansion!\")\n",
    "    \n",
    "    health_points = 10\n",
    "    items = []\n",
    "\n",
    "    print(\"\\n You have\", health_points, \"health points, and your items are:\", items)\n",
    "    "
   ]
  },
  {
   "cell_type": "code",
   "execution_count": null,
   "id": "cd0f5999",
   "metadata": {},
   "outputs": [],
   "source": [
    "def run_mansion():\n",
    "    print(\"Welcome to the Haunted Mansion!\")\n",
    "    \n",
    "    health_points = 10\n",
    "    items = []\n",
    "\n",
    "    print(\"\\n You have\", health_points, \"health points, and your items are:\", items)\n",
    "    \n",
    "\n",
    "    while health_points > 0:\n",
    "        path = input(\"\\nYou see two paths ahead: left and right. Where do you go? (left/right): \").lower()\n",
    "        if path == \"left\":\n",
    "            print(\"\\nYou chose the left path and found a misteryous locked chest!\")\n",
    "            fate = input(\"\\nChoose a number between 1 and 10 to open the chest: \")\n",
    "            if not fate.isdigit():\n",
    "                print(\"That's not a valid number. The chest remains locked.\")\n",
    "            else:\n",
    "                fate = int(fate)\n",
    "                if fate >= 7:\n",
    "                    print(\"You found a longhammer inside the chest!\")\n",
    "                    items.append(\"longhammer\")\n",
    "                else:\n",
    "                    print(\"The chest exploded, you lost 1 health points!\")\n",
    "                    health_points -= 1\n",
    "                    if health_points <= 0:\n",
    "                        print(\"Game over, you died!\")\n",
    "                        break\n",
    "        elif path == \"right\":\n",
    "            print(\"\\nYou chose the right path and encountered a ghost!\")\n",
    "            result = encounter_ghost()\n",
    "            if result:\n",
    "                print(\"Battle was won and you stole the ghost's soul!\")\n",
    "                if \"soul\" not in items:\n",
    "                    items.append(\"soul\")\n",
    "                else:\n",
    "                    print(\"You already have the soul.\")    \n",
    "            else:\n",
    "                print(\"The ghost striked you! You lost 1 health point.\")\n",
    "                print(\"You fleed in terror to the mansion entrance.\")\n",
    "                health_points -= 1\n",
    "                print(\"\\n You have\", health_points, \"health points\")\n",
    "                if health_points <= 0:\n",
    "                    print(\"Game over, you died!\")\n",
    "                    break\n",
    "                else:\n",
    "                    continue\n",
    "        else:\n",
    "            print(\"Invalid choice. Please choose 'left' or 'right'.\")\n",
    "            continue\n",
    "        print(\"\\n You have\", health_points, \"health points\")\n",
    "        print(\"Your items are:\", items)\n",
    "        if \"soul\" in items:\n",
    "            print(\"You move further trough darkness again ...\")\n",
    "            print(\"You reached a tall wooden door and opened it.\")\n",
    "            print(\"You entered a room filled with darkness all around you but you manage to see this weak stonewall glittering in the dark.\")\n",
    "            found_treasure = False\n",
    "      \n",
    "\n",
    "            if \"longhammer\" in items:\n",
    "                print(\"\\nYou combined the longhammer and the ghost's soul power!\")\n",
    "                print(\"With a mighty swing, you smashed the stonewall and found a treasure!!\")\n",
    "                found_treasure = True\n",
    "                print(\"You collected the treasure and escaped the mansion!! Congratulations, you won the game!\")\n",
    "                break\n",
    "            else:\n",
    "                print(\"\\nYou tried to break the wall, but your hands are too weak.\")\n",
    "                print(\"You need more power to break the stonewall.\")\n",
    "                print(\"You returned to the mansion entrance to search again...\")\n",
    "                continue\n",
    "      \n",
    "\n",
    "\n"
   ]
  },
  {
   "cell_type": "markdown",
   "id": "9e13a33c-38e5-44b3-bd1b-9a642c962c89",
   "metadata": {},
   "source": [
    "To run the game, simply call the run_mansion() function:"
   ]
  },
  {
   "cell_type": "code",
   "execution_count": 102,
   "id": "f238dc90-0be2-4d8c-93e9-30a1dc8a5b72",
   "metadata": {},
   "outputs": [
    {
     "name": "stdout",
     "output_type": "stream",
     "text": [
      "Welcome to the Haunted Mansion!\n",
      "\n",
      " You have 10 health points, and your items are: []\n"
     ]
    },
    {
     "name": "stdout",
     "output_type": "stream",
     "text": [
      "\n",
      "You chose the right path and encountered a ghost!\n",
      "The battle begins!\n",
      "You defeated the ghost!\n",
      "Battle was won and you stole the ghost's soul!\n",
      "\n",
      " You have 10 health points\n",
      "Your items are: ['soul']\n",
      "You moved further again ...\n",
      "You reached a tall wooden door and opened it.\n",
      "You entered a room filled with darkness all around you but you manage to see this weak stonewall glittering in the dark.\n",
      "\n",
      "You tried to break the wall, but your hands are too weak.\n",
      "You need more power to break the stonewall.\n",
      "You returned to the mansion entrance to search again...\n",
      "\n",
      "You chose the left path and found a misteryous locked chest!\n",
      "You found a longhammer inside the chest!\n",
      "\n",
      " You have 10 health points\n",
      "Your items are: ['soul', 'longhammer']\n",
      "You moved further again ...\n",
      "You reached a tall wooden door and opened it.\n",
      "You entered a room filled with darkness all around you but you manage to see this weak stonewall glittering in the dark.\n",
      "\n",
      "You combined the longhammer and the ghost's soul power!\n",
      "With a mighty swing, you smashed the stonewall and found a treasure!!\n",
      "You collected the treasure and escaped the mansion!! Congratulations, you won the game!\n"
     ]
    }
   ],
   "source": [
    "run_mansion()"
   ]
  },
  {
   "cell_type": "markdown",
   "id": "88212f63-3bdb-479f-bf6c-4ecd0685d39a",
   "metadata": {},
   "source": [
    "This should print the game's narrative and prompt the user to make choices and fight ghosts. The game ends when the adventurer finds the key or loses all their health points. "
   ]
  }
 ],
 "metadata": {
  "kernelspec": {
   "display_name": "base",
   "language": "python",
   "name": "python3"
  },
  "language_info": {
   "codemirror_mode": {
    "name": "ipython",
    "version": 3
   },
   "file_extension": ".py",
   "mimetype": "text/x-python",
   "name": "python",
   "nbconvert_exporter": "python",
   "pygments_lexer": "ipython3",
   "version": "3.13.5"
  }
 },
 "nbformat": 4,
 "nbformat_minor": 5
}
